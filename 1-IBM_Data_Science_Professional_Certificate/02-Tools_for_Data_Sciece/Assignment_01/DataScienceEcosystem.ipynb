{
 "cells": [
  {
   "cell_type": "markdown",
   "id": "305de7b6",
   "metadata": {},
   "source": [
    "# Data Science Tools and Ecosystem"
   ]
  },
  {
   "cell_type": "markdown",
   "id": "65478d4b",
   "metadata": {},
   "source": [
    "In this notebook, Data Science Tools and Ecosystem are summarized."
   ]
  },
  {
   "cell_type": "markdown",
   "id": "b7416012",
   "metadata": {},
   "source": [
    "**Objectives:**\n",
    "\n",
    "* Languages of Data Science\n",
    "* Packages, APIs, Data Sets, and Models\n",
    "* Jupyter Notebooks and JupyterLab\n",
    "* RStudio & GitHub\n",
    "* IBM Watson Studio"
   ]
  },
  {
   "cell_type": "markdown",
   "id": "ca29c527",
   "metadata": {},
   "source": [
    "## Author\n",
    "Tejas Kakad"
   ]
  },
  {
   "cell_type": "markdown",
   "id": "26c59556",
   "metadata": {},
   "source": [
    "Some of the popular languages that Data Scientists use are:\n",
    "\n",
    "<ol>\n",
    "<li>Python</li>\n",
    "<li>Scala</li>\n",
    "<li>R</li>\n",
    "</ol>"
   ]
  },
  {
   "cell_type": "markdown",
   "id": "56b8c439",
   "metadata": {},
   "source": [
    "Some of the commonly used libraries used by Data Scientists include:\n",
    "\n",
    "<ol>\n",
    "<li>numpy</li>\n",
    "<li>pandas</li>\n",
    "<li>math</li>\n",
    "</ol>"
   ]
  },
  {
   "cell_type": "markdown",
   "id": "1ac0d394",
   "metadata": {},
   "source": [
    "| Data Science Tools       |\n",
    "|--------------------------|\n",
    "| Jupyter Notebook         |\n",
    "| RStudio                  |\n",
    "| Visual Studio Code       |\n"
   ]
  },
  {
   "cell_type": "markdown",
   "id": "0c9a2f25",
   "metadata": {},
   "source": [
    "### Below are a few examples of evaluating arithmetic expressions in Python."
   ]
  },
  {
   "cell_type": "code",
   "execution_count": null,
   "id": "782b3b8f",
   "metadata": {},
   "outputs": [
    {
     "data": {
      "text/plain": [
       "17"
      ]
     },
     "execution_count": 1,
     "metadata": {},
     "output_type": "execute_result"
    }
   ],
   "source": [
    "# This a simple arithmetic expression to mutiply then add integers\n",
    "(3*4)+5"
   ]
  },
  {
   "cell_type": "code",
   "execution_count": 2,
   "id": "3b34f9f3",
   "metadata": {},
   "outputs": [
    {
     "data": {
      "text/plain": [
       "3.3333333333333335"
      ]
     },
     "execution_count": 2,
     "metadata": {},
     "output_type": "execute_result"
    }
   ],
   "source": [
    "# This will convert 200 minutes to hours by diving by 60\n",
    "minutes = 200\n",
    "hours = minutes / 60\n",
    "hours"
   ]
  },
  {
   "cell_type": "markdown",
   "id": "d51fa142",
   "metadata": {},
   "source": []
  }
 ],
 "metadata": {
  "kernelspec": {
   "display_name": "Python 3",
   "language": "python",
   "name": "python3"
  },
  "language_info": {
   "codemirror_mode": {
    "name": "ipython",
    "version": 3
   },
   "file_extension": ".py",
   "mimetype": "text/x-python",
   "name": "python",
   "nbconvert_exporter": "python",
   "pygments_lexer": "ipython3",
   "version": "3.8.16"
  }
 },
 "nbformat": 4,
 "nbformat_minor": 5
}
